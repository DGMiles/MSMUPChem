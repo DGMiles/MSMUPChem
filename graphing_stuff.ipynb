{
  "cells": [
    {
      "cell_type": "markdown",
      "metadata": {
        "id": "view-in-github",
        "colab_type": "text"
      },
      "source": [
        "<a href=\"https://colab.research.google.com/github/DGMiles/MSMUPChem/blob/main/graphing_stuff.ipynb\" target=\"_parent\"><img src=\"https://colab.research.google.com/assets/colab-badge.svg\" alt=\"Open In Colab\"/></a>"
      ]
    },
    {
      "cell_type": "code",
      "execution_count": null,
      "metadata": {
        "id": "KNTQlbZR45QC",
        "outputId": "1de56a84-290c-4704-e959-3cd564e2da2a"
      },
      "outputs": [
        {
          "data": {
            "image/png": "[encoded data removed]",
            "text/plain": [
              "<Figure size 432x288 with 1 Axes>"
            ]
          },
          "metadata": {
            "needs_background": "light"
          },
          "output_type": "display_data"
        },
        {
          "name": "stdout",
          "output_type": "stream",
          "text": [
            "[0.1        1.         2.         3.03030303]\n"
          ]
        },
        {
          "data": {
            "image/png": "[encoded data removed]",
            "text/plain": [
              "<Figure size 432x288 with 1 Axes>"
            ]
          },
          "metadata": {
            "needs_background": "light"
          },
          "output_type": "display_data"
        },
        {
          "name": "stdout",
          "output_type": "stream",
          "text": [
            "The slope = 1.019673877344651, with uncertainty 0.08024534203800741\n",
            "The intercept = -1.0127274651777198, with uncertainty 0.15115513520531101\n"
          ]
        }
      ],
      "source": [
        "import numpy as np\n",
        "import matplotlib.pyplot as plt\n",
        "from scipy.optimize import curve_fit\n",
        "\n",
        "xdata0=np.array([10.0,1.0,0.5,0.33])\n",
        "ydata=np.array([-1,0.2,0.9,2.1])\n",
        "\n",
        "plt.plot(xdata0,ydata,'ro')\n",
        "plt.xlabel ('x values')\n",
        "plt.ylabel('y values')\n",
        "plt.title('yawn')\n",
        "plt.show()\n",
        "\n",
        "xdata=np.reciprocal(xdata0)\n",
        "print(xdata)\n",
        "\n",
        "\n",
        "def linearFunc(x,intercept,slope):\n",
        "    y = intercept + slope * x\n",
        "    return y\n",
        "\n",
        "a_fit,cov=curve_fit(linearFunc,xdata,ydata)\n",
        "inter = a_fit[0]\n",
        "slope = a_fit[1]\n",
        "d_inter = np.sqrt(cov[0][0])\n",
        "d_slope = np.sqrt(cov[1][1])\n",
        "yfit = inter + slope*xdata\n",
        "\n",
        "# Create a graph of the fit to the data. We just use the ordinary plot\n",
        "# command for this.\n",
        "plt.plot(xdata,yfit,label='Fit')\n",
        "plt.plot(xdata, ydata, 'oC3', label=\"data\")\n",
        "# Display a legend, label the x and y axes and title the graph.\n",
        "plt.legend()\n",
        "plt.xlabel('x')\n",
        "plt.ylabel('y')\n",
        "\n",
        "# Save the figure to a file\n",
        "#plt.savefig('FakeDataPlot_with_error.png',dpi=300)\n",
        "\n",
        "# Show the graph in a new window on the users screen.\n",
        "plt.show()\n",
        "print(f'The slope = {slope}, with uncertainty {d_slope}')\n",
        "print(f'The intercept = {inter}, with uncertainty {d_inter}')\n",
        "\n"
      ]
    },
    {
      "cell_type": "code",
      "execution_count": null,
      "metadata": {
        "id": "qShOa9ts45QE"
      },
      "outputs": [],
      "source": []
    },
    {
      "cell_type": "code",
      "execution_count": null,
      "metadata": {
        "id": "aviUmdlB45QE"
      },
      "outputs": [],
      "source": []
    }
  ],
  "metadata": {
    "kernelspec": {
      "display_name": "Python 3",
      "language": "python",
      "name": "python3"
    },
    "language_info": {
      "codemirror_mode": {
        "name": "ipython",
        "version": 3
      },
      "file_extension": ".py",
      "mimetype": "text/x-python",
      "name": "python",
      "nbconvert_exporter": "python",
      "pygments_lexer": "ipython3",
      "version": "3.8.3"
    },
    "colab": {
      "provenance": [],
      "include_colab_link": true
    }
  },
  "nbformat": 4,
  "nbformat_minor": 0
}