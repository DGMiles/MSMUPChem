{
  "nbformat": 4,
  "nbformat_minor": 0,
  "metadata": {
    "colab": {
      "provenance": [],
      "toc_visible": true,
      "collapsed_sections": [
        "nquRLovbwCQe",
        "Tfe-C5-djiYx",
        "q7oU5zoDuLmF",
        "OwJaOxWeK_Fv"
      ],
      "include_colab_link": true
    },
    "kernelspec": {
      "name": "python3",
      "display_name": "Python 3"
    },
    "language_info": {
      "name": "python"
    }
  },
  "cells": [
    {
      "cell_type": "markdown",
      "metadata": {
        "id": "view-in-github",
        "colab_type": "text"
      },
      "source": [
        "<a href=\"https://colab.research.google.com/github/DGMiles/MSMUPChem/blob/main/WaveFunction_Suite.ipynb\" target=\"_parent\"><img src=\"https://colab.research.google.com/assets/colab-badge.svg\" alt=\"Open In Colab\"/></a>"
      ]
    },
    {
      "cell_type": "markdown",
      "source": [
        "# Welcome to the Wavefunction Suite!\n",
        "\n",
        "---\n",
        "This is a demo for the various wavefunctions that will be covered in PChem.\n",
        "I hope you all find it less confusing then I did with some of these visualizations.\n",
        "\n",
        "Please select a wavefunction module from below that you would like to use:\n",
        "\n",
        "## [Particle in a box](#Particle_in_a_box)\n",
        "## [Quantum Harmonic Oscillator](#Quantum_Harmonic_Oscillator)\n",
        "## [Spherical Harmonic](#Spherical_Harmonics)\n",
        "## [Radial Probability Density Function](#Radial_Probability_Density_Function)\n",
        "\n"
      ],
      "metadata": {
        "id": "KNvIncfTh0ee"
      }
    },
    {
      "cell_type": "markdown",
      "source": [
        "\n",
        "\n",
        "# Particle in a box\n",
        "\n",
        "The particle in a box is a model system, also known as the infinite potential well, is used in quantum mechanics to study the behavior of a particle confined to a one-dimensional space (or sometimes extended to higher dimensions). There are several key implications of the particle in the box."
      ],
      "metadata": {
        "id": "T9PJqtYgvlKU"
      }
    },
    {
      "cell_type": "markdown",
      "source": [
        "## 1. Quantization of energy\n",
        "\n",
        "The quantization of energy for a particle in a box refers to the phenomenon where the energy of the particle is restricted to certain discrete values rather than being continuous. In the context of the particle in a box model, the energy levels of the particle are quantized, meaning that only certain specific values of energy are allowed. This is represented by:\n",
        "\n",
        "\\begin{align*}\n",
        "E_n = \\frac{{n^2 \\pi^2 \\hbar^2}}{{2mL^2}}\n",
        "\\end{align*}\n",
        "\n",
        "1. ${\\hbar}$ is the reduced Planck's constant\n",
        "2. $m$ is the mass of the particle\n",
        "3. $E$ is the energy of the particle\n",
        "4. $L$ is the length of the box\n",
        "5. $n$ is the principle quantum number\n",
        "\n",
        "Note that energy is quantized and proportional to $n^2$\n"
      ],
      "metadata": {
        "id": "XCcnU0RF2Ypy"
      }
    },
    {
      "cell_type": "markdown",
      "source": [
        "## 2. Solution to the Schrodinger Equation\n",
        "\n",
        "By solving the Time-Independent Schrodinger Equation:\n",
        "\n",
        "\\begin{align*}\n",
        "-\\frac{{\\hbar^2}}{{2m}} \\frac{{d^2\\psi}}{{dx^2}} = E\\psi\n",
        "\\end{align*}\n",
        "\n",
        "Where:\n",
        "1. ${\\hbar}$ is the reduced Planck's constant\n",
        "2. $m$ is the mass of the particle\n",
        "3. $E$ is the energy of the particle\n",
        "4. ${𝛹}$ is the wavefunction of the particle\n",
        "5. $x$ is the position of the particle in the box\n",
        "\n",
        "The wavefunction $Ψ_n(x)$ can be expressed as a combination of sinusoidal functions. The solutions to the Schrödinger equation for the particle in a box are given by:\n",
        "\n",
        "\\begin{align*}\n",
        "\\psi_n(x) = \\sqrt{\\frac{2}{L}} \\sin\\left(\\frac{n\\pi x}{L}\\right)\n",
        "\\end{align*}\n",
        "\n",
        "Where:\n",
        "\n",
        "1. $n$ is the prinicple quantum number $1,2,3...$\n",
        "2. $x$ is the position of the particle in the box\n",
        "3. $L$ is the length of the box\n",
        "\n",
        "This wavefunction implies orthogonality and normalization."
      ],
      "metadata": {
        "id": "4vZedevp2hIq"
      }
    },
    {
      "cell_type": "markdown",
      "source": [
        "## 3. Boundary Conditions\n",
        "\n",
        "The particle in a box is more accurately defined as a region demarcated on an x axis from:\n",
        "\n",
        "\\begin{align*}\n",
        "0 < X < L\n",
        "\\end{align*}\n",
        "\n",
        "Within this region, the potential energy is considered zero. Outside of the region, the potential energy is infinite. Thus we get:\n",
        "\n",
        "\\begin{align*}\n",
        "\\text{V}(x) =\n",
        "\\begin{cases}\n",
        "0 & \\text{if } 0 < x < L \\\\\n",
        "\\infty & \\text{if } x \\leq 0 \\text{ or } x \\geq L\n",
        "\\end{cases}\n",
        "\\end{align*}"
      ],
      "metadata": {
        "id": "WNunLKmv2l-h"
      }
    },
    {
      "cell_type": "markdown",
      "source": [
        "## Desmos Graphing\n",
        "\n",
        "This is a model of Desmos graphing for the particle in a box:\n",
        "\n",
        "[Particle in a Box Model](https://www.desmos.com/calculator/4doompksvz)\n",
        "\n",
        "In order to use, simply click to display. Energy levels can be displayed below."
      ],
      "metadata": {
        "id": "-L3aw9z97wJL"
      }
    },
    {
      "cell_type": "code",
      "source": [
        "import numpy as np\n",
        "from scipy.constants import hbar\n",
        "\n",
        "# Pick principle quantum number, mass, and length of the box:\n",
        "n = 1 # Principle quantum number\n",
        "m = 9.11e-31 # Mass of an electron\n",
        "L = 1.0e-10 # length of box\n",
        "\n",
        "# Eqn. for energy\n",
        "Energy = (n**2 * np.pi**2 * hbar**2) / (2 * m * L**2)\n",
        "\n",
        "# Display energy levels\n",
        "print(f\"The energy level {n} has the value {Energy} J\")"
      ],
      "metadata": {
        "colab": {
          "base_uri": "https://localhost:8080/"
        },
        "id": "ZOmAPjbKoriH",
        "outputId": "9fd7cf3f-4af0-4f56-90de-996da2084009"
      },
      "execution_count": null,
      "outputs": [
        {
          "output_type": "stream",
          "name": "stdout",
          "text": [
            "The energy level 1 has the value 6.024259828858537e-18 J\n"
          ]
        }
      ]
    },
    {
      "cell_type": "markdown",
      "source": [
        "# Quantum Harmonic Oscillator\n",
        "\n",
        "\n",
        "The quantum harmonic oscillator is a system that describes the behavior of a particle subjected to a restoring force proportional to its displacement from a fixed point, and the term \"harmonic\" comes from the mathematical form of this force.\n",
        "\n",
        "In classical mechanics, a harmonic oscillator is typically represented by a mass attached to a spring, where the force exerted by the spring is directly proportional to the displacement of the mass from its equilibrium position. However, in quantum mechanics, the behavior of the harmonic oscillator is quite different due to the principles of wave-particle duality and quantization.\n",
        "\n",
        "The quantum harmonic oscillator is described by the Schrödinger equation, and its solutions are characterized by quantized energy levels. The energy levels are discrete and evenly spaced, unlike the continuous energy spectrum of a classical oscillator. The lowest energy level, known as the ground state, has a non-zero energy due to the uncertainty principle."
      ],
      "metadata": {
        "id": "nquRLovbwCQe"
      }
    },
    {
      "cell_type": "markdown",
      "source": [
        "## 1. Solution to the Schrodinger Equation\n",
        "\n",
        "The quantum harmonic oscillator is a well-known and important example in quantum mechanics, and its solutions to the Schrödinger equation are well understood. The Hamiltonian operator for a one-dimensional quantum harmonic oscillator is given by:\n",
        "\n",
        "\\begin{align*}\n",
        "\\hat{H} = -\\frac{\\hbar^2}{2m} \\frac{d^2}{dx^2} + \\frac{1}{2} m\\omega^2 x^2\n",
        "\\end{align*}\n",
        "\n",
        "where:\n",
        "\n",
        "1. ℏ is the reduced Planck constant\n",
        "2. m is the mass of the particle\n",
        "3. ω is the angular frequency of the oscillator\n",
        "4. x is the position coordinate\n",
        "\n",
        "The solution to this schrodinger equation then gives the wavefunction below. While this is incredibly complicated, the two recognizeable factors are Hermite polynomials and Gaussian polynomials. This gives the full equation as seen below. Thank goodness that we have Physical Chemists like Dr. Miles to solve it for us!\n",
        "\n",
        "\\begin{align*}\n",
        "\\Psi_n(x) = \\left(\\frac{m\\omega}{\\pi\\hbar}\\right)^{1/4} \\frac{1}{\\sqrt{2^n n!}} H_n\\left(\\sqrt{\\frac{m\\omega}{\\hbar}}x\\right) e^{-\\frac{m\\omega x^2}{2\\hbar}}\n",
        "\\end{align*}\n",
        "\n",
        "I have a slighly easier equation for you all. Below is the equation for energy levels:\n",
        "\n",
        "\\begin{align*}\n",
        "E_n = \\hbar \\omega \\left( n + \\frac{1}{2} \\right)\n",
        "\\end{align*}\n",
        "\n",
        "Where:\n",
        "1. ℏ is the reduced Planck constant\n",
        "2. ω is the angular frequency of the oscillator\n",
        "\n",
        "In case you all are wondering what omega is, remember this from physics?\n",
        "\n",
        "\\begin{align*}\n",
        "\\omega = \\sqrt{\\frac{k}{m}}\n",
        "\\end{align*}\n",
        "\n",
        "Where:\n",
        "1. K is the force constant for the oscillator potential. It represents the stiffness of the potential and determines how quickly the potential energy increases as the particle is displaced from the equilibrium position.\n",
        "2. m is the mass of the particle. It represents the inertia of the particle and influences how it responds to changes in the potential energy."
      ],
      "metadata": {
        "id": "lvdqDfNDxBQq"
      }
    },
    {
      "cell_type": "markdown",
      "source": [
        "## 2. Desmos Graphing\n",
        "\n",
        "This is a model of Desmos graphing for the quantum harmonic oscillator:\n",
        "\n",
        "[Quantum Harmonic Oscilator](https://www.desmos.com/calculator/2dlacvvaij)\n",
        "\n",
        "To use this, just adjust the value of \"n\" to see the change in level. Then use the code below to display the energy level for each level."
      ],
      "metadata": {
        "id": "Tfe-C5-djiYx"
      }
    },
    {
      "cell_type": "code",
      "source": [
        "import numpy as np\n",
        "from scipy.constants import hbar\n",
        "\n",
        "# Define the principle quantum number, n and angular frequency of the oscillator\n",
        "angular_frequency = 1.0  # rad/s\n",
        "n = 6\n",
        "\n",
        "# Calculate the energy levels for n = 0 to 10\n",
        "energy_level = (n + 0.5) * angular_frequency * hbar\n",
        "\n",
        "# Print the energy levels\n",
        "print(f\"Energy level for {n}:\")\n",
        "print(f\"{energy_level} J\")\n"
      ],
      "metadata": {
        "colab": {
          "base_uri": "https://localhost:8080/"
        },
        "id": "b1TtZ-lal3Nr",
        "outputId": "809b861d-0dc3-4a24-c3ef-14b63b30d4db"
      },
      "execution_count": null,
      "outputs": [
        {
          "output_type": "stream",
          "name": "stdout",
          "text": [
            "Energy level for 6:\n",
            "6.854716814700017e-34 J\n"
          ]
        }
      ]
    },
    {
      "cell_type": "markdown",
      "source": [
        "# Spherical Harmonics\n",
        "\n",
        "Spherical harmonics are solutions to the angular part of the Schrödinger equation. They represent the spatial distribution of the electron's probability density around the nucleus, accounting for its angular momentum. The other half of the hydrogenic atom solution wouldd be the radial part of the Schrödinger equation, and this shows the probability of electron location."
      ],
      "metadata": {
        "id": "q7oU5zoDuLmF"
      }
    },
    {
      "cell_type": "markdown",
      "source": [
        "## Hydrogenic Atom Wavefunction\n",
        "When considering the hydrogenic atom, the solution to the system takes the form of a spherical and radial component. This leaves the total solution to be the following:\n",
        "\n",
        "\\begin{align*}\n",
        "\\Psi_{n,l,m_{\\text{l}}}(r, \\theta, \\phi) = R_{n,l}(r) \\cdot Y_{\\ell}^{m}(\\theta, \\phi)\n",
        "\\end{align*}\n",
        "\n",
        "The radial component is the distance of an electron from the central proton, and the spherical portion is the mapping of probability where the electron can be found. This is shown through the azmuthial and colateral angles.\n",
        "\n",
        "The radial function is usually a calculation in reference to the Bohr radius. The full calculation for the function is below:\n",
        "\n",
        "\\begin{align*}\n",
        "R_{n,\\ell}(r) = \\sqrt{\\left(\\frac{2}{na_0}\\right)^3 \\frac{(n - \\ell - 1)!}{2n[(n + \\ell)!]^3}} e^{-\\frac{r}{na_0}} \\left(\\frac{2r}{na_0}\\right)^{\\ell} L_{n - \\ell - 1}^{2\\ell + 1}\\left(\\frac{2r}{na_0}\\right)\n",
        "\\end{align*}\n",
        "\n",
        "This ends up being a probability amplitude that we can express in terms of the Bohr radius, so lets have the computer do all the work for us.\n",
        "\n",
        "However, the spherical component shows the shape of electron orbitals. Hopefully, this may look familiar to the orbitals discussed in general chemistry. As seen, this allows S, P, D and F orbitals to be visualized!\n",
        "\n",
        "The spherical harmonics are represented by the following:\n",
        "\n",
        "\\begin{align*}\n",
        "Y_{\\ell}^{m}(\\theta, \\phi) = \\sqrt{\\frac{2\\ell + 1}{4\\pi} \\frac{(\\ell - m)!}{(\\ell + m)!}} P_{\\ell}^{m}(\\cos \\theta) e^{im\\phi}\n",
        "\\end{align*}\n"
      ],
      "metadata": {
        "id": "u-1bRPrAng1m"
      }
    },
    {
      "cell_type": "markdown",
      "source": [
        "## Spherical Plot Graphing"
      ],
      "metadata": {
        "id": "tSFMKkbCEeTv"
      }
    },
    {
      "cell_type": "code",
      "source": [
        "import numpy as np\n",
        "import matplotlib.pyplot as plt\n",
        "from mpl_toolkits.mplot3d import Axes3D\n",
        "from scipy.special import sph_harm\n",
        "\n",
        "# HELLO USER\n",
        "# Please change the values below to display the correct variables.\n",
        "l = 2 # orbital angular momentum\n",
        "m = 1 # magnetic quantum number\n",
        "\n",
        "# Grids + meshgrid of polar and azimuthal angles\n",
        "theta = np.linspace(0, np.pi, 100)\n",
        "phi = np.linspace(0, 2*np.pi, 100)\n",
        "theta, phi = np.meshgrid(theta, phi)\n",
        "# Calculate the Cartesian coordinates of each point in the mesh.\n",
        "xyz = np.array([np.sin(theta) * np.sin(phi),\n",
        "                np.sin(theta) * np.cos(phi),\n",
        "                np.cos(theta)])\n",
        "\n",
        "def plot_Y(ax, el, m):\n",
        "    # Plot the spherical harmonic of degree el and order m on Axes ax.\n",
        "\n",
        "    Y = sph_harm(abs(m), el, phi, theta)\n",
        "    if m < 0:\n",
        "        Y = np.sqrt(2) * (-1)**m * Y.imag\n",
        "    elif m > 0:\n",
        "        Y = np.sqrt(2) * (-1)**m * Y.real\n",
        "    Yx, Yy, Yz = np.abs(Y) * xyz\n",
        "\n",
        "    cmap = plt.cm.ScalarMappable(cmap=plt.get_cmap('PRGn'))\n",
        "    cmap.set_clim(-0.5, 0.5)\n",
        "    ax.plot_surface(Yx, Yy, Yz,\n",
        "                    facecolors=cmap.to_rgba(Y.real),\n",
        "                    rstride=2, cstride=2)\n",
        "\n",
        "    ax_lim = 0.5\n",
        "\n",
        "    ax.plot([-ax_lim, ax_lim], [0,0], [0,0], c='0.5', lw=1, zorder=10)\n",
        "    ax.plot([0,0], [-ax_lim, ax_lim], [0,0], c='0.5', lw=1, zorder=10)\n",
        "    ax.plot([0,0], [0,0], [-ax_lim, ax_lim], c='0.5', lw=1, zorder=10)\n",
        "    ax.set_title('$Y_{{{},{}}}$'.format(el, m))\n",
        "    ax_lim = 0.5\n",
        "    ax.set_xlim(-ax_lim, ax_lim)\n",
        "    ax.set_ylim(-ax_lim, ax_lim)\n",
        "    ax.set_zlim(-ax_lim, ax_lim)\n",
        "    ax.axis('off')\n",
        "\n",
        "# Set the backend to pyplot potentially for Google Colab? Needs work\n",
        "%matplotlib inline\n",
        "plt.ion()\n",
        "\n",
        "fig = plt.figure(figsize=plt.figaspect(1.))\n",
        "ax = fig.add_subplot(projection='3d')\n",
        "plot_Y(ax, l, m)\n",
        "plt.show()"
      ],
      "metadata": {
        "colab": {
          "base_uri": "https://localhost:8080/",
          "height": 429
        },
        "id": "aH7SCRMkuVUl",
        "outputId": "1e815215-c73c-4683-afcc-bdafa27c4a95"
      },
      "execution_count": null,
      "outputs": [
        {
          "output_type": "display_data",
          "data": {
            "text/plain": [
              "<Figure size 480x480 with 1 Axes>"
            ],
            "image/png": "[encoded data removed]"
          },
          "metadata": {}
        }
      ]
    },
    {
      "cell_type": "markdown",
      "source": [
        "# Radial Probability Density Function\n",
        "\n",
        "In quantum mechanics, the wavefunctions of hydrogen-like atoms describe the spatial distribution of electrons around the nucleus. These atoms have a single electron orbiting a nucleus with a positive charge, similar to hydrogen H, but with a different atomic number, Z representing the number of protons in the nucleus."
      ],
      "metadata": {
        "id": "OwJaOxWeK_Fv"
      }
    },
    {
      "cell_type": "markdown",
      "source": [
        "## Radial Wavefunction\n",
        "\n",
        "The radial wavefunction, denoted as R(r) describes the probability amplitude of finding the electron at a certain radial distance r from the nucleus for a given set of quantum numbers n and l. The principal quantum number n determines the energy level or shell of the orbital, while the azimuthal quantum number\n",
        "l determines the orbital angular momentum and its shape.\n",
        "\n",
        "The radial wavefunction is characterized by an exponential decay term, reflecting the Coulomb potential of the nucleus. It decreases exponentially as the radial distance from the nucleus increases, with oscillations determined by the angular momentum quantum number l."
      ],
      "metadata": {
        "id": "aEBsdBt8Op7O"
      }
    },
    {
      "cell_type": "markdown",
      "source": [
        "## Radial Probability Density Derivation\n",
        "\n",
        "When you square the radial wavefunction and multiply it by the radius\n",
        "r, you essentially compute the radial probability density function P(r), which represents the probability of finding the electron in a thin shell at a distance r from the nucleus. This is represented as the following:\n",
        "\n",
        "\\begin{align*}\n",
        "P(r) = r^2 |R_{nl}(r)|^2\n",
        "\\end{align*}\n",
        "\n",
        "Where the radial function squared times the radius squared gives the most probable distance of an electron from the nucleus."
      ],
      "metadata": {
        "id": "gPmCIpEgRYZx"
      }
    },
    {
      "cell_type": "markdown",
      "source": [
        "## Rutgers Graphing\n",
        "\n",
        "This is a model to calculate the most probable distance. Look for the value with the highest maxima.\n",
        "\n",
        "[Radial Probability Density Graphing](https://elearning.rutgers.edu/orbitalexplorer/tools/tool1.php)"
      ],
      "metadata": {
        "id": "eg_-ATFFTGV6"
      }
    }
  ]
}