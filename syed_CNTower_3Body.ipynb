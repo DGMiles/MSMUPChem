{
  "cells": [
    {
      "cell_type": "markdown",
      "metadata": {
        "id": "view-in-github",
        "colab_type": "text"
      },
      "source": [
        "<a href=\"https://colab.research.google.com/github/DGMiles/MSMUPChem/blob/main/syed_CNTower_3Body.ipynb\" target=\"_parent\"><img src=\"https://colab.research.google.com/assets/colab-badge.svg\" alt=\"Open In Colab\"/></a>"
      ]
    },
    {
      "cell_type": "markdown",
      "metadata": {
        "id": "bDWCjPChquHf"
      },
      "source": [
        "\n",
        "<img src=\"pics/Toronto-04.png\" width=\"300\" align=\"right\">\n",
        "\n",
        "## **Example 3.1. Simulation of a projectile on Earth.**\n",
        "---\n",
        "\n",
        "We want to know the dynamics of a green apple ($m = 0.3$ kg) tossed horizontally at 10 cm/s speed from the top of the Toronto CN Tower (553 m) for the first 10 seconds."
      ]
    },
    {
      "cell_type": "code",
      "source": [
        "# Import necessary libraries: NumPy for numerical calculations and Matplotlib for visualization.\n",
        "import numpy as np\n",
        "import matplotlib.pyplot as plt\n",
        "from matplotlib import animation\n",
        "\n",
        "# Create a new figure and axis for plotting.\n",
        "fig, ax = plt.subplots(figsize=(8, 8))\n",
        "\n",
        "# Set the limits and labels for the plot.\n",
        "ax.set(xlim=(-2, 2), ylim=(0, 600), xlabel='Position, meters', ylabel='Height, meters', title='Apple falling from CN tower')\n",
        "\n",
        "# Define parameters of the problem.\n",
        "T = 10.0  # Total time of simulation in seconds.\n",
        "m = 0.3   # Mass of the green apple in kilograms.\n",
        "g = 9.8   # Acceleration due to gravity in meters per second squared.\n",
        "v0x = -0.1  # Initial horizontal velocity of the apple in meters per second.\n",
        "H = 553.0   # Height of the CN Tower in meters.\n",
        "\n",
        "# Define the time step and calculate the number of time steps needed.\n",
        "dt = 0.05  # Time step size in seconds.\n",
        "N = int(T / dt)  # Number of time steps.\n",
        "\n",
        "# Create arrays to store velocity, position, and force information over time.\n",
        "v = np.zeros((N+1, 2))  # Array to store velocity vectors.\n",
        "r = np.zeros((N+1, 2))  # Array to store position vectors.\n",
        "f = np.zeros((N+1, 2))  # Array to store force vectors.\n",
        "\n",
        "# Set initial conditions for position and velocity.\n",
        "r[0] = np.array([0.0, H])  # Initial position of the apple at the top of the CN Tower.\n",
        "v[0] = np.array([-v0x, 0.0])  # Initial velocity with only horizontal component.\n",
        "\n",
        "# The only force acting on the apple is gravity.\n",
        "f[:] = np.array([0.0, -m * g])  # Constant gravitational force in the negative y-direction.\n",
        "\n",
        "# Simulate the dynamics by updating position and velocity over time.\n",
        "for n in range(N):\n",
        "    v[n+1] = v[n] + f[n] / m * dt  # Update velocity using Newton's second law.\n",
        "    r[n+1] = r[n] + v[n+1] * dt  # Update position using the updated velocity.\n",
        "\n",
        "# Create a scatter plot to visualize the initial data point.\n",
        "scat = ax.scatter(r[0, 0], r[0, 1], marker='o', c='g', s=200)\n",
        "\n",
        "# Define an animation function to update the position of the apple over time.\n",
        "def animate(i):\n",
        "    scat.set_offsets(r[i])\n",
        "\n",
        "# Create an animation object using Matplotlib's FuncAnimation.\n",
        "ani = animation.FuncAnimation(fig, func=animate, frames=N)\n",
        "\n",
        "# Save the animation as an HTML file, specifying the frame rate.\n",
        "ani.save('CNtower.html', writer=animation.HTMLWriter(fps=1 // dt))\n",
        "\n",
        "# Close the plot.\n",
        "plt.close()\n"
      ],
      "metadata": {
        "id": "HVqo6zV2rSoA"
      },
      "execution_count": 2,
      "outputs": []
    },
    {
      "cell_type": "markdown",
      "metadata": {
        "id": "TVdLk_-aquHi"
      },
      "source": [
        "Let's visualize the dynamics using embedded HTML. It's interactive and you can play a movie step by step:"
      ]
    },
    {
      "cell_type": "code",
      "source": [
        "import shutil\n",
        "import os\n",
        "\n",
        "# Define the folder and file names.\n",
        "frames_folder = 'CNtower_frames'\n",
        "html_file = 'CNtower.html'\n",
        "\n",
        "# Create a temporary directory for zipping both the folder and file.\n",
        "tmp_dir = '/content/tmp_folder'\n",
        "os.makedirs(tmp_dir, exist_ok=True)\n",
        "\n",
        "# Copy the folder and file to the temporary directory.\n",
        "shutil.copytree(frames_folder, os.path.join(tmp_dir, frames_folder))\n",
        "shutil.copy(html_file, os.path.join(tmp_dir, html_file))\n",
        "\n",
        "# Zip the temporary directory.\n",
        "shutil.make_archive('/content/CNTower', 'zip', tmp_dir)\n",
        "\n",
        "# Remove the temporary directory.\n",
        "shutil.rmtree(tmp_dir)\n",
        "\n",
        "# Provide the download link for the zip file.\n",
        "from google.colab import files\n",
        "files.download('/content/CNTower.zip')\n",
        "\n",
        "## 1) MAKE SURE TO UNZIP FOLDER\n",
        "## 2) Then double click the html file\n"
      ],
      "metadata": {
        "colab": {
          "base_uri": "https://localhost:8080/",
          "height": 17
        },
        "id": "TYTSmITDrm2R",
        "outputId": "65737296-351c-4bfd-f651-82614480014d"
      },
      "execution_count": 3,
      "outputs": [
        {
          "output_type": "display_data",
          "data": {
            "text/plain": [
              "<IPython.core.display.Javascript object>"
            ],
            "application/javascript": [
              "\n",
              "    async function download(id, filename, size) {\n",
              "      if (!google.colab.kernel.accessAllowed) {\n",
              "        return;\n",
              "      }\n",
              "      const div = document.createElement('div');\n",
              "      const label = document.createElement('label');\n",
              "      label.textContent = `Downloading \"${filename}\": `;\n",
              "      div.appendChild(label);\n",
              "      const progress = document.createElement('progress');\n",
              "      progress.max = size;\n",
              "      div.appendChild(progress);\n",
              "      document.body.appendChild(div);\n",
              "\n",
              "      const buffers = [];\n",
              "      let downloaded = 0;\n",
              "\n",
              "      const channel = await google.colab.kernel.comms.open(id);\n",
              "      // Send a message to notify the kernel that we're ready.\n",
              "      channel.send({})\n",
              "\n",
              "      for await (const message of channel.messages) {\n",
              "        // Send a message to notify the kernel that we're ready.\n",
              "        channel.send({})\n",
              "        if (message.buffers) {\n",
              "          for (const buffer of message.buffers) {\n",
              "            buffers.push(buffer);\n",
              "            downloaded += buffer.byteLength;\n",
              "            progress.value = downloaded;\n",
              "          }\n",
              "        }\n",
              "      }\n",
              "      const blob = new Blob(buffers, {type: 'application/binary'});\n",
              "      const a = document.createElement('a');\n",
              "      a.href = window.URL.createObjectURL(blob);\n",
              "      a.download = filename;\n",
              "      div.appendChild(a);\n",
              "      a.click();\n",
              "      div.remove();\n",
              "    }\n",
              "  "
            ]
          },
          "metadata": {}
        },
        {
          "output_type": "display_data",
          "data": {
            "text/plain": [
              "<IPython.core.display.Javascript object>"
            ],
            "application/javascript": [
              "download(\"download_e4072a8c-0aac-4d1a-a065-5cad5514b396\", \"CNTower.zip\", 3286651)"
            ]
          },
          "metadata": {}
        }
      ]
    },
    {
      "cell_type": "markdown",
      "source": [
        "<!-- Create an HTML cell with custom CSS to adjust the width and height -->\n",
        "<div style=\"width: 800px; height: 600px;\">\n",
        "    <iframe src=\"/content/Untitled Folder/CNtower.html\" width=\"100%\" height=\"100%\"></iframe>\n",
        "</div>\n"
      ],
      "metadata": {
        "id": "lQ-lT6mmutnV"
      }
    },
    {
      "cell_type": "markdown",
      "metadata": {
        "id": "-cFSrCKwquHj"
      },
      "source": [
        "---\n",
        "When a closed system of particles are interacting through pairwise potentials, the force on each particle $i$ depends on its position with respect to every other particle $j$:\n",
        "\n",
        "$$m_i\\frac{d^2r_i(t)}{dt^2} = \\sum_jF_{ij}(t) = -\\sum_j\\nabla_i{U(|r_{ij}(t)|)}$$\n",
        "\n",
        "where $r_{ij} = \\sqrt{(x_i - x_j)^2 + (y_i - y_j)^2 + (z_i - z_j)^2}$ is the distance between particle $i$ and $j$, and $i,j \\in (1,N)$.\n",
        "\n",
        "### Example 3.2. Simulation of 3-body problem with Hooke's law:\n",
        "\n",
        "We want to know the dynamics of 3 particles $m = 1$ kg connected to each other with invisible springs with $K_s = 5$ N/m, and $r_0 = 1$ m initially located at (0, 2), (2, 0) and (-1, 0) on the 2D plane for the first 10 seconds of their motion.\n",
        "\n",
        "**Hint:**\n",
        "The pairwise potential is (Hooke's Law): $$U(r_{ij}) = \\frac{K_s}{2}(r_{ij} - r_0)^2$$\n",
        "\n",
        "The negative gradient of the potential is a force from $j$-th upon $i$-th:\n",
        "\n",
        "$$\\mathbf{F_{ij}} = - \\nabla_i{U(r_{ij})} = - K_s (r_{ij} - r_0) \\nabla_i r_{ij} = - K_s (r_{ij} - r_0) \\mathbf{r_{ij}} / r_{ij}$$\n"
      ]
    },
    {
      "cell_type": "code",
      "execution_count": 4,
      "metadata": {
        "id": "SENvySJlquHj"
      },
      "outputs": [],
      "source": [
        "# Setup the figure and axes...\n",
        "fig, ax = plt.subplots(figsize=(6,6))\n",
        "ax.set(xlim=(-3.5, 3.5), ylim=(-3.5, 3.5), ylabel='meters', xlabel='meters', title='3-Body problem')\n",
        "\n",
        "# parameters of the problem\n",
        "T = 10. #s\n",
        "m = 1.0 #kg\n",
        "ks = 5 #N/m\n",
        "r0 = 1. #m\n",
        "\n",
        "# setting a timestep to be 50 ms\n",
        "dt = 0.05 #s\n",
        "N = int(T / dt)\n",
        "\n",
        "# Allocating arrays for 2D problem: first axis - time. second axis - particle's number. third - coordinate\n",
        "v = np.zeros((N+1, 3, 2))\n",
        "r = np.zeros((N+1, 3, 2))\n",
        "f = np.zeros((N+1, 3, 2))\n",
        "\n",
        "# initial conditions for 3 particles:\n",
        "r[0,0] = np.array([0., 2.])\n",
        "r[0,1] = np.array([2., 0.])\n",
        "r[0,2] = np.array([-1., 0.])\n",
        "\n",
        "def compute_forces(n):\n",
        "    '''The function computes forces on each pearticle at time step n'''\n",
        "    for i in range(3):\n",
        "        for j in range(3):\n",
        "            if i != j:\n",
        "                rij = r[n,i] - r[n,j]\n",
        "                rij_abs = np.linalg.norm(rij)\n",
        "                f[n, i] -= ks * (rij_abs - r0) * rij / rij_abs\n",
        "## Run dynamics:\n",
        "for n in range(N):\n",
        "    compute_forces(n)\n",
        "    v[n+1] = v[n] + f[n]/m * dt\n",
        "    r[n+1] = r[n] + v[n+1] * dt\n",
        "\n",
        "## drawing and animating\n",
        "scat = ax.scatter(r[0,:,0], r[0,:,1], marker='o', c=['b', 'k', 'r'], s=1000)\n",
        "\n",
        "def animate(i):\n",
        "    scat.set_offsets(r[i])\n",
        "\n",
        "ani = animation.FuncAnimation(fig, animate, frames=N)\n",
        "plt.close()\n",
        "## this function will create a lot of *.png files in a folder '3Body_frames'\n",
        "ani.save('3body.html', writer=animation.HTMLWriter(fps= 1//dt))"
      ]
    },
    {
      "cell_type": "markdown",
      "source": [
        "Again, looking at the trajectory representation in real time:"
      ],
      "metadata": {
        "id": "86MX_43ryd96"
      }
    },
    {
      "cell_type": "code",
      "source": [
        "\n",
        "# Define the folder and file names.\n",
        "frames_folder = '3body_frames'\n",
        "html_file = '3body.html'\n",
        "\n",
        "# Create a temporary directory for zipping both the folder and file.\n",
        "tmp_dir = '/content/tmp_folder'\n",
        "os.makedirs(tmp_dir, exist_ok=True)\n",
        "\n",
        "# Copy the folder and file to the temporary directory.\n",
        "shutil.copytree(frames_folder, os.path.join(tmp_dir, frames_folder))\n",
        "shutil.copy(html_file, os.path.join(tmp_dir, html_file))\n",
        "\n",
        "# Zip the temporary directory.\n",
        "shutil.make_archive('/content/3body', 'zip', tmp_dir)\n",
        "\n",
        "# Remove the temporary directory.\n",
        "shutil.rmtree(tmp_dir)\n",
        "\n",
        "# Provide the download link for the zip file.\n",
        "from google.colab import files\n",
        "files.download('/content/3body.zip')\n",
        "\n",
        "## 1) MAKE SURE TO UNZIP FOLDER\n",
        "## 2) Then double click the html file\n"
      ],
      "metadata": {
        "colab": {
          "base_uri": "https://localhost:8080/",
          "height": 17
        },
        "id": "yEjIEFEkxpXy",
        "outputId": "97ac585d-a058-452d-fb1c-6cf4d120baab"
      },
      "execution_count": 5,
      "outputs": [
        {
          "output_type": "display_data",
          "data": {
            "text/plain": [
              "<IPython.core.display.Javascript object>"
            ],
            "application/javascript": [
              "\n",
              "    async function download(id, filename, size) {\n",
              "      if (!google.colab.kernel.accessAllowed) {\n",
              "        return;\n",
              "      }\n",
              "      const div = document.createElement('div');\n",
              "      const label = document.createElement('label');\n",
              "      label.textContent = `Downloading \"${filename}\": `;\n",
              "      div.appendChild(label);\n",
              "      const progress = document.createElement('progress');\n",
              "      progress.max = size;\n",
              "      div.appendChild(progress);\n",
              "      document.body.appendChild(div);\n",
              "\n",
              "      const buffers = [];\n",
              "      let downloaded = 0;\n",
              "\n",
              "      const channel = await google.colab.kernel.comms.open(id);\n",
              "      // Send a message to notify the kernel that we're ready.\n",
              "      channel.send({})\n",
              "\n",
              "      for await (const message of channel.messages) {\n",
              "        // Send a message to notify the kernel that we're ready.\n",
              "        channel.send({})\n",
              "        if (message.buffers) {\n",
              "          for (const buffer of message.buffers) {\n",
              "            buffers.push(buffer);\n",
              "            downloaded += buffer.byteLength;\n",
              "            progress.value = downloaded;\n",
              "          }\n",
              "        }\n",
              "      }\n",
              "      const blob = new Blob(buffers, {type: 'application/binary'});\n",
              "      const a = document.createElement('a');\n",
              "      a.href = window.URL.createObjectURL(blob);\n",
              "      a.download = filename;\n",
              "      div.appendChild(a);\n",
              "      a.click();\n",
              "      div.remove();\n",
              "    }\n",
              "  "
            ]
          },
          "metadata": {}
        },
        {
          "output_type": "display_data",
          "data": {
            "text/plain": [
              "<IPython.core.display.Javascript object>"
            ],
            "application/javascript": [
              "download(\"download_f3558df3-b0ce-4f60-9a48-96f9b22f8a7b\", \"3body.zip\", 2506521)"
            ]
          },
          "metadata": {}
        }
      ]
    }
  ],
  "metadata": {
    "kernelspec": {
      "display_name": "Python 3",
      "name": "python3"
    },
    "language_info": {
      "codemirror_mode": {
        "name": "ipython",
        "version": 3
      },
      "file_extension": ".py",
      "mimetype": "text/x-python",
      "name": "python",
      "nbconvert_exporter": "python",
      "pygments_lexer": "ipython3",
      "version": "3.7.12"
    },
    "colab": {
      "provenance": [],
      "include_colab_link": true
    }
  },
  "nbformat": 4,
  "nbformat_minor": 0
}